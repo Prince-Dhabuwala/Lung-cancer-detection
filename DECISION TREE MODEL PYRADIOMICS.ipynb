{
 "cells": [
  {
   "cell_type": "code",
   "execution_count": 40,
   "id": "e3c43dd8",
   "metadata": {},
   "outputs": [],
   "source": [
    "import os\n",
    "import csv\n",
    "import SimpleITK as sitk\n",
    "import numpy as np\n",
    "from radiomics import featureextractor"
   ]
  },
  {
   "cell_type": "code",
   "execution_count": 41,
   "id": "90a2e828",
   "metadata": {},
   "outputs": [],
   "source": [
    "params = \"C:/Users/nagav/Downloads/Shankar_Final-20230515T113248Z-001/Shankar_Final/Dataset_Used/params.yaml\"\n",
    "if not os.path.exists(params):\n",
    "    # Generate default configuration file if it doesn't exist\n",
    "    featureextractor.RadiomicsFeaturesBase().getParams(params)"
   ]
  },
  {
   "cell_type": "code",
   "execution_count": 42,
   "id": "79aeb55a",
   "metadata": {},
   "outputs": [],
   "source": [
    "extractor = featureextractor.RadiomicsFeatureExtractor(params)"
   ]
  },
  {
   "cell_type": "code",
   "execution_count": 43,
   "id": "94b5ab74",
   "metadata": {},
   "outputs": [],
   "source": [
    "# Function to extract features for a given image\n",
    "def extract_features(image_path):\n",
    "    image = sitk.ReadImage(image_path)\n",
    "    mask = sitk.GetImageFromArray(np.ones(image.GetSize()))\n",
    "    features = extractor.execute(image, mask)\n",
    "    return features"
   ]
  },
  {
   "cell_type": "code",
   "execution_count": 44,
   "id": "9d2cd61d",
   "metadata": {},
   "outputs": [],
   "source": [
    "# Assuming you have a folder with cancerous lung images and another folder with normal lung images.\n",
    "cancerous_folder = \"C:/Users/nagav/Downloads/Shankar_Final-20230515T113248Z-001/Shankar_Final/Dataset_Used/All_update/CANCEROUS\"\n",
    "normal_folder = \"C:/Users/nagav/Downloads/Shankar_Final-20230515T113248Z-001/Shankar_Final/Dataset_Used/All_update/NORMAL\"\n",
    "\n",
    "cancerous_images = [os.path.join(cancerous_folder, file) for file in os.listdir(cancerous_folder)]\n",
    "normal_images = [os.path.join(normal_folder, file) for file in os.listdir(normal_folder)]\n"
   ]
  },
  {
   "cell_type": "code",
   "execution_count": null,
   "id": "eb708f3d",
   "metadata": {},
   "outputs": [],
   "source": [
    "from PIL import Image\n",
    "import glob\n",
    "\n",
    "cancerous_features = []\n",
    "\n",
    "for image_path in glob.glob(cancerous_folder + '/*.png'):\n",
    "    # Open the image using Pillow\n",
    "    image = Image.open(image_path)\n",
    "\n",
    "    # Convert the image to grayscale and resize it to a consistent size\n",
    "    image = image.convert('L').resize((512, 512))\n",
    "\n",
    "    # Convert the image to a NumPy array\n",
    "    image_array = np.array(image)\n",
    "\n",
    "    # Convert the NumPy array to a SimpleITK image\n",
    "    image_sitk = sitk.GetImageFromArray(image_array)\n",
    "\n",
    "    # Create a mask with the same dimensions as the image\n",
    "    mask = sitk.GetImageFromArray(np.ones(image_sitk.GetSize()))\n",
    "    mask.CopyInformation(image_sitk)\n",
    "\n",
    "    # Extract features using PyRadiomics\n",
    "    features = extractor.execute(image_sitk, mask, 1)\n",
    "\n",
    "    # Append the features to the list\n",
    "    cancerous_features.append(features)\n"
   ]
  },
  {
   "cell_type": "code",
   "execution_count": null,
   "id": "bbc15132",
   "metadata": {},
   "outputs": [],
   "source": [
    "from PIL import Image\n",
    "import glob\n",
    "\n",
    "normal_features = []\n",
    "\n",
    "# Specify the path to the folder containing the normal images\n",
    "folder_path = \"C:/Users/nagav/Downloads/Shankar_Final-20230515T113248Z-001/Shankar_Final/Dataset_Used/All_update/NORMAL\"\n",
    "\n",
    "for image_path in glob.glob(folder_path + '/*.png'):\n",
    "    # Open the image using Pillow\n",
    "    image = Image.open(image_path)\n",
    "\n",
    "    # Convert the image to grayscale and resize it to a consistent size\n",
    "    image = image.convert('L').resize((512, 512))\n",
    "\n",
    "    # Convert the image to a NumPy array\n",
    "    image_array = np.array(image)\n",
    "\n",
    "    # Convert the NumPy array to a SimpleITK image\n",
    "    image_sitk = sitk.GetImageFromArray(image_array)\n",
    "\n",
    "    # Create a mask with the same dimensions as the image\n",
    "    mask = sitk.GetImageFromArray(np.ones(image_sitk.GetSize()))\n",
    "    mask.CopyInformation(image_sitk)\n",
    "\n",
    "    # Extract features using PyRadiomics\n",
    "    features = extractor.execute(image_sitk, mask, 0)\n",
    "\n",
    "    # Append the features to the list\n",
    "    normal_features.append(features)\n",
    "\n"
   ]
  },
  {
   "cell_type": "code",
   "execution_count": null,
   "id": "fe5165d2",
   "metadata": {},
   "outputs": [],
   "source": [
    "normal_features"
   ]
  },
  {
   "cell_type": "code",
   "execution_count": null,
   "id": "a699b8ea",
   "metadata": {},
   "outputs": [],
   "source": [
    "cancerous_features"
   ]
  },
  {
   "cell_type": "code",
   "execution_count": null,
   "id": "0d8aa48e",
   "metadata": {},
   "outputs": [],
   "source": [
    "output_file_normal = \"C:/Users/nagav/Downloads/Shankar_Final-20230515T113248Z-001/Shankar_Final/Dataset_Used/0.csv\"\n",
    "output_file_can = \"C:/Users/nagav/Downloads/Shankar_Final-20230515T113248Z-001/Shankar_Final/Dataset_Used/1.csv\"\n"
   ]
  },
  {
   "cell_type": "code",
   "execution_count": null,
   "id": "5885416d",
   "metadata": {},
   "outputs": [],
   "source": [
    "feature_names_0 = list(normal_features[0].keys())\n",
    "feature_names_1 = list(cancerous_features[1].keys())"
   ]
  },
  {
   "cell_type": "code",
   "execution_count": null,
   "id": "1f00ea4b",
   "metadata": {},
   "outputs": [],
   "source": [
    "#NORMAL\n",
    "\n",
    "with open(output_file_normal, mode='w', newline='') as file:\n",
    "    writer = csv.DictWriter(file, fieldnames=feature_names_0)\n",
    "    writer.writeheader()\n",
    "\n",
    "    for features in normal_features:\n",
    "        writer.writerow(features)"
   ]
  },
  {
   "cell_type": "code",
   "execution_count": null,
   "id": "bd353e81",
   "metadata": {},
   "outputs": [],
   "source": [
    "#CANCER\n",
    "\n",
    "with open(output_file_can, mode='w', newline='') as file:\n",
    "    writer = csv.DictWriter(file, fieldnames=feature_names_1)\n",
    "    writer.writeheader()\n",
    "\n",
    "    for features in cancerous_features:\n",
    "        writer.writerow(features)"
   ]
  },
  {
   "cell_type": "code",
   "execution_count": null,
   "id": "35d2fbe9",
   "metadata": {},
   "outputs": [],
   "source": []
  },
  {
   "cell_type": "code",
   "execution_count": null,
   "id": "aea50526",
   "metadata": {},
   "outputs": [],
   "source": []
  },
  {
   "cell_type": "code",
   "execution_count": null,
   "id": "677c0693",
   "metadata": {},
   "outputs": [],
   "source": []
  }
 ],
 "metadata": {
  "kernelspec": {
   "display_name": "Python 3 (ipykernel)",
   "language": "python",
   "name": "python3"
  },
  "language_info": {
   "codemirror_mode": {
    "name": "ipython",
    "version": 3
   },
   "file_extension": ".py",
   "mimetype": "text/x-python",
   "name": "python",
   "nbconvert_exporter": "python",
   "pygments_lexer": "ipython3",
   "version": "3.9.13"
  }
 },
 "nbformat": 4,
 "nbformat_minor": 5
}
